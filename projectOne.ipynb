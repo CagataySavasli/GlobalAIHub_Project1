{
 "cells": [
  {
   "cell_type": "code",
   "execution_count": 1,
   "id": "731b6ff2",
   "metadata": {},
   "outputs": [],
   "source": [
    "import pandas as pd\n",
    "import numpy as np\n",
    "import seaborn as sns\n",
    "import matplotlib\n",
    "import sklearn"
   ]
  },
  {
   "cell_type": "code",
   "execution_count": 2,
   "id": "e1c4b4a9",
   "metadata": {},
   "outputs": [],
   "source": [
    "df = pd.read_csv ('insurance.csv')"
   ]
  },
  {
   "cell_type": "code",
   "execution_count": 3,
   "id": "616c7ea1",
   "metadata": {},
   "outputs": [
    {
     "data": {
      "text/html": [
       "<div>\n",
       "<style scoped>\n",
       "    .dataframe tbody tr th:only-of-type {\n",
       "        vertical-align: middle;\n",
       "    }\n",
       "\n",
       "    .dataframe tbody tr th {\n",
       "        vertical-align: top;\n",
       "    }\n",
       "\n",
       "    .dataframe thead th {\n",
       "        text-align: right;\n",
       "    }\n",
       "</style>\n",
       "<table border=\"1\" class=\"dataframe\">\n",
       "  <thead>\n",
       "    <tr style=\"text-align: right;\">\n",
       "      <th></th>\n",
       "      <th>age</th>\n",
       "      <th>sex</th>\n",
       "      <th>bmi</th>\n",
       "      <th>children</th>\n",
       "      <th>smoker</th>\n",
       "      <th>region</th>\n",
       "      <th>charges</th>\n",
       "    </tr>\n",
       "  </thead>\n",
       "  <tbody>\n",
       "    <tr>\n",
       "      <th>0</th>\n",
       "      <td>19</td>\n",
       "      <td>female</td>\n",
       "      <td>27.900</td>\n",
       "      <td>0</td>\n",
       "      <td>yes</td>\n",
       "      <td>southwest</td>\n",
       "      <td>16884.92400</td>\n",
       "    </tr>\n",
       "    <tr>\n",
       "      <th>1</th>\n",
       "      <td>18</td>\n",
       "      <td>male</td>\n",
       "      <td>33.770</td>\n",
       "      <td>1</td>\n",
       "      <td>no</td>\n",
       "      <td>southeast</td>\n",
       "      <td>1725.55230</td>\n",
       "    </tr>\n",
       "    <tr>\n",
       "      <th>2</th>\n",
       "      <td>28</td>\n",
       "      <td>male</td>\n",
       "      <td>33.000</td>\n",
       "      <td>3</td>\n",
       "      <td>no</td>\n",
       "      <td>southeast</td>\n",
       "      <td>4449.46200</td>\n",
       "    </tr>\n",
       "    <tr>\n",
       "      <th>3</th>\n",
       "      <td>33</td>\n",
       "      <td>male</td>\n",
       "      <td>22.705</td>\n",
       "      <td>0</td>\n",
       "      <td>no</td>\n",
       "      <td>northwest</td>\n",
       "      <td>21984.47061</td>\n",
       "    </tr>\n",
       "    <tr>\n",
       "      <th>4</th>\n",
       "      <td>32</td>\n",
       "      <td>male</td>\n",
       "      <td>28.880</td>\n",
       "      <td>0</td>\n",
       "      <td>no</td>\n",
       "      <td>northwest</td>\n",
       "      <td>3866.85520</td>\n",
       "    </tr>\n",
       "  </tbody>\n",
       "</table>\n",
       "</div>"
      ],
      "text/plain": [
       "   age     sex     bmi  children smoker     region      charges\n",
       "0   19  female  27.900         0    yes  southwest  16884.92400\n",
       "1   18    male  33.770         1     no  southeast   1725.55230\n",
       "2   28    male  33.000         3     no  southeast   4449.46200\n",
       "3   33    male  22.705         0     no  northwest  21984.47061\n",
       "4   32    male  28.880         0     no  northwest   3866.85520"
      ]
     },
     "execution_count": 3,
     "metadata": {},
     "output_type": "execute_result"
    }
   ],
   "source": [
    "df.head()"
   ]
  },
  {
   "cell_type": "markdown",
   "id": "30471d8b",
   "metadata": {},
   "source": [
    "## Bmi(Vücut Kitle İndeksi)’nin dağılımını inceleyiniz"
   ]
  },
  {
   "cell_type": "code",
   "execution_count": 4,
   "id": "4fa9ecf5",
   "metadata": {},
   "outputs": [
    {
     "name": "stderr",
     "output_type": "stream",
     "text": [
      "C:\\Users\\cagat\\anaconda3\\lib\\site-packages\\seaborn\\distributions.py:2557: FutureWarning: `distplot` is a deprecated function and will be removed in a future version. Please adapt your code to use either `displot` (a figure-level function with similar flexibility) or `histplot` (an axes-level function for histograms).\n",
      "  warnings.warn(msg, FutureWarning)\n"
     ]
    },
    {
     "data": {
      "image/png": "[encoded data removed]",
      "text/plain": [
       "<Figure size 432x288 with 1 Axes>"
      ]
     },
     "metadata": {
      "needs_background": "light"
     },
     "output_type": "display_data"
    }
   ],
   "source": [
    "sns.distplot(df.bmi, kde = False);\n"
   ]
  },
  {
   "cell_type": "code",
   "execution_count": 5,
   "id": "0c5ce2ec",
   "metadata": {},
   "outputs": [
    {
     "data": {
      "image/png": "[encoded data removed]",
      "text/plain": [
       "<Figure size 432x288 with 1 Axes>"
      ]
     },
     "metadata": {
      "needs_background": "light"
     },
     "output_type": "display_data"
    }
   ],
   "source": [
    "sns.kdeplot(df.bmi, shade = True);"
   ]
  },
  {
   "cell_type": "markdown",
   "id": "d3dc0f7e",
   "metadata": {},
   "source": [
    "## “smoker” ile “charges” arasındaki ilişkiyi inceleyiniz"
   ]
  },
  {
   "cell_type": "code",
   "execution_count": 6,
   "id": "8f44f36d",
   "metadata": {},
   "outputs": [
    {
     "data": {
      "image/png": "[encoded data removed]",
      "text/plain": [
       "<Figure size 360x360 with 1 Axes>"
      ]
     },
     "metadata": {
      "needs_background": "light"
     },
     "output_type": "display_data"
    }
   ],
   "source": [
    "sns.catplot(x = df.smoker, y = df.charges, data = df);"
   ]
  },
  {
   "cell_type": "markdown",
   "id": "a94119c7",
   "metadata": {},
   "source": [
    "## “smoker” (Sigara tüketen) ile “region”(Bölge) arasındaki ilişkiyi inceleyiniz.\n"
   ]
  },
  {
   "cell_type": "code",
   "execution_count": 9,
   "id": "142d080d",
   "metadata": {},
   "outputs": [
    {
     "name": "stdout",
     "output_type": "stream",
     "text": [
      "Smokers rate in northwest :  17.846153846153847\n",
      "Smokers rate in northeast :  20.679012345679013\n",
      "Smokers rate in southwest :  17.846153846153847\n",
      "Smokers rate in southeast :  25.0\n"
     ]
    },
    {
     "name": "stderr",
     "output_type": "stream",
     "text": [
      "<ipython-input-9-9bea16e0300f>:1: UserWarning: Boolean Series key will be reindexed to match DataFrame index.\n",
      "  print(\"Smokers rate in northwest : \", df[df.region == \"northwest\"][df.smoker == \"yes\"].smoker.count() / df[df.region == \"northwest\"].smoker.count() * 100)\n",
      "<ipython-input-9-9bea16e0300f>:2: UserWarning: Boolean Series key will be reindexed to match DataFrame index.\n",
      "  print(\"Smokers rate in northeast : \", df[df.region == \"northeast\"][df.smoker == \"yes\"].smoker.count() / df[df.region == \"northeast\"].smoker.count() * 100)\n",
      "<ipython-input-9-9bea16e0300f>:3: UserWarning: Boolean Series key will be reindexed to match DataFrame index.\n",
      "  print(\"Smokers rate in southwest : \", df[df.region == \"southwest\"][df.smoker == \"yes\"].smoker.count() / df[df.region == \"southwest\"].smoker.count() * 100)\n",
      "<ipython-input-9-9bea16e0300f>:4: UserWarning: Boolean Series key will be reindexed to match DataFrame index.\n",
      "  print(\"Smokers rate in southeast : \", df[df.region == \"southeast\"][df.smoker == \"yes\"].smoker.count() / df[df.region == \"southeast\"].smoker.count() * 100)\n"
     ]
    }
   ],
   "source": [
    "print(\"Smokers rate in northwest : \", df[df.region == \"northwest\"][df.smoker == \"yes\"].smoker.count() / df[df.region == \"northwest\"].smoker.count() * 100)\n",
    "print(\"Smokers rate in northeast : \", df[df.region == \"northeast\"][df.smoker == \"yes\"].smoker.count() / df[df.region == \"northeast\"].smoker.count() * 100)\n",
    "print(\"Smokers rate in southwest : \", df[df.region == \"southwest\"][df.smoker == \"yes\"].smoker.count() / df[df.region == \"southwest\"].smoker.count() * 100)\n",
    "print(\"Smokers rate in southeast : \", df[df.region == \"southeast\"][df.smoker == \"yes\"].smoker.count() / df[df.region == \"southeast\"].smoker.count() * 100)"
   ]
  },
  {
   "cell_type": "code",
   "execution_count": null,
   "id": "68b52390",
   "metadata": {},
   "outputs": [],
   "source": []
  },
  {
   "cell_type": "code",
   "execution_count": null,
   "id": "7fb260e6",
   "metadata": {},
   "outputs": [],
   "source": []
  },
  {
   "cell_type": "code",
   "execution_count": null,
   "id": "560d7225",
   "metadata": {},
   "outputs": [],
   "source": []
  }
 ],
 "metadata": {
  "kernelspec": {
   "display_name": "Python 3",
   "language": "python",
   "name": "python3"
  },
  "language_info": {
   "codemirror_mode": {
    "name": "ipython",
    "version": 3
   },
   "file_extension": ".py",
   "mimetype": "text/x-python",
   "name": "python",
   "nbconvert_exporter": "python",
   "pygments_lexer": "ipython3",
   "version": "3.8.8"
  }
 },
 "nbformat": 4,
 "nbformat_minor": 5
}
